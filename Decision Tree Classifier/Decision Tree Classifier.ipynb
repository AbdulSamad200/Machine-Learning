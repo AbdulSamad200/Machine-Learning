{
 "cells": [
  {
   "cell_type": "markdown",
   "metadata": {},
   "source": [
    "# Importing Necessary Libraries"
   ]
  },
  {
   "cell_type": "code",
   "execution_count": 1,
   "metadata": {},
   "outputs": [],
   "source": [
    "import pandas as pd \n",
    "import numpy as np \n",
    "import matplotlib.pyplot as plt"
   ]
  },
  {
   "cell_type": "markdown",
   "metadata": {},
   "source": [
    "# Loading the Dataset"
   ]
  },
  {
   "cell_type": "code",
   "execution_count": 2,
   "metadata": {},
   "outputs": [
    {
     "data": {
      "text/html": [
       "<div>\n",
       "<style scoped>\n",
       "    .dataframe tbody tr th:only-of-type {\n",
       "        vertical-align: middle;\n",
       "    }\n",
       "\n",
       "    .dataframe tbody tr th {\n",
       "        vertical-align: top;\n",
       "    }\n",
       "\n",
       "    .dataframe thead th {\n",
       "        text-align: right;\n",
       "    }\n",
       "</style>\n",
       "<table border=\"1\" class=\"dataframe\">\n",
       "  <thead>\n",
       "    <tr style=\"text-align: right;\">\n",
       "      <th></th>\n",
       "      <th>Age</th>\n",
       "      <th>Height</th>\n",
       "      <th>Weight</th>\n",
       "      <th>Gender</th>\n",
       "      <th>Likeness</th>\n",
       "    </tr>\n",
       "  </thead>\n",
       "  <tbody>\n",
       "    <tr>\n",
       "      <th>0</th>\n",
       "      <td>53</td>\n",
       "      <td>153.278361</td>\n",
       "      <td>79.183453</td>\n",
       "      <td>Male</td>\n",
       "      <td>Samosa</td>\n",
       "    </tr>\n",
       "    <tr>\n",
       "      <th>1</th>\n",
       "      <td>56</td>\n",
       "      <td>199.333636</td>\n",
       "      <td>60.453554</td>\n",
       "      <td>Male</td>\n",
       "      <td>Samosa</td>\n",
       "    </tr>\n",
       "    <tr>\n",
       "      <th>2</th>\n",
       "      <td>40</td>\n",
       "      <td>176.137288</td>\n",
       "      <td>79.703309</td>\n",
       "      <td>Female</td>\n",
       "      <td>Samosa</td>\n",
       "    </tr>\n",
       "    <tr>\n",
       "      <th>3</th>\n",
       "      <td>64</td>\n",
       "      <td>168.847337</td>\n",
       "      <td>57.181763</td>\n",
       "      <td>Female</td>\n",
       "      <td>Biryani</td>\n",
       "    </tr>\n",
       "    <tr>\n",
       "      <th>4</th>\n",
       "      <td>47</td>\n",
       "      <td>176.453651</td>\n",
       "      <td>95.345925</td>\n",
       "      <td>Male</td>\n",
       "      <td>Samosa</td>\n",
       "    </tr>\n",
       "    <tr>\n",
       "      <th>...</th>\n",
       "      <td>...</td>\n",
       "      <td>...</td>\n",
       "      <td>...</td>\n",
       "      <td>...</td>\n",
       "      <td>...</td>\n",
       "    </tr>\n",
       "    <tr>\n",
       "      <th>95</th>\n",
       "      <td>44</td>\n",
       "      <td>168.733839</td>\n",
       "      <td>95.814802</td>\n",
       "      <td>Male</td>\n",
       "      <td>Samosa</td>\n",
       "    </tr>\n",
       "    <tr>\n",
       "      <th>96</th>\n",
       "      <td>43</td>\n",
       "      <td>194.232635</td>\n",
       "      <td>82.472093</td>\n",
       "      <td>Male</td>\n",
       "      <td>Samosa</td>\n",
       "    </tr>\n",
       "    <tr>\n",
       "      <th>97</th>\n",
       "      <td>57</td>\n",
       "      <td>179.743062</td>\n",
       "      <td>96.668470</td>\n",
       "      <td>Female</td>\n",
       "      <td>Biryani</td>\n",
       "    </tr>\n",
       "    <tr>\n",
       "      <th>98</th>\n",
       "      <td>54</td>\n",
       "      <td>165.754246</td>\n",
       "      <td>50.620600</td>\n",
       "      <td>Female</td>\n",
       "      <td>Samosa</td>\n",
       "    </tr>\n",
       "    <tr>\n",
       "      <th>99</th>\n",
       "      <td>33</td>\n",
       "      <td>176.613389</td>\n",
       "      <td>65.198265</td>\n",
       "      <td>Female</td>\n",
       "      <td>Biryani</td>\n",
       "    </tr>\n",
       "  </tbody>\n",
       "</table>\n",
       "<p>100 rows × 5 columns</p>\n",
       "</div>"
      ],
      "text/plain": [
       "    Age      Height     Weight  Gender Likeness\n",
       "0    53  153.278361  79.183453    Male   Samosa\n",
       "1    56  199.333636  60.453554    Male   Samosa\n",
       "2    40  176.137288  79.703309  Female   Samosa\n",
       "3    64  168.847337  57.181763  Female  Biryani\n",
       "4    47  176.453651  95.345925    Male   Samosa\n",
       "..  ...         ...        ...     ...      ...\n",
       "95   44  168.733839  95.814802    Male   Samosa\n",
       "96   43  194.232635  82.472093    Male   Samosa\n",
       "97   57  179.743062  96.668470  Female  Biryani\n",
       "98   54  165.754246  50.620600  Female   Samosa\n",
       "99   33  176.613389  65.198265  Female  Biryani\n",
       "\n",
       "[100 rows x 5 columns]"
      ]
     },
     "execution_count": 2,
     "metadata": {},
     "output_type": "execute_result"
    }
   ],
   "source": [
    "df = pd.read_csv(\"dataset.csv\")\n",
    "df"
   ]
  },
  {
   "cell_type": "code",
   "execution_count": 3,
   "metadata": {},
   "outputs": [
    {
     "data": {
      "text/html": [
       "<div>\n",
       "<style scoped>\n",
       "    .dataframe tbody tr th:only-of-type {\n",
       "        vertical-align: middle;\n",
       "    }\n",
       "\n",
       "    .dataframe tbody tr th {\n",
       "        vertical-align: top;\n",
       "    }\n",
       "\n",
       "    .dataframe thead th {\n",
       "        text-align: right;\n",
       "    }\n",
       "</style>\n",
       "<table border=\"1\" class=\"dataframe\">\n",
       "  <thead>\n",
       "    <tr style=\"text-align: right;\">\n",
       "      <th></th>\n",
       "      <th>Age</th>\n",
       "      <th>Height</th>\n",
       "      <th>Weight</th>\n",
       "      <th>Gender</th>\n",
       "      <th>Likeness</th>\n",
       "    </tr>\n",
       "  </thead>\n",
       "  <tbody>\n",
       "    <tr>\n",
       "      <th>0</th>\n",
       "      <td>53</td>\n",
       "      <td>153.278361</td>\n",
       "      <td>79.183453</td>\n",
       "      <td>1</td>\n",
       "      <td>Samosa</td>\n",
       "    </tr>\n",
       "    <tr>\n",
       "      <th>1</th>\n",
       "      <td>56</td>\n",
       "      <td>199.333636</td>\n",
       "      <td>60.453554</td>\n",
       "      <td>1</td>\n",
       "      <td>Samosa</td>\n",
       "    </tr>\n",
       "    <tr>\n",
       "      <th>2</th>\n",
       "      <td>40</td>\n",
       "      <td>176.137288</td>\n",
       "      <td>79.703309</td>\n",
       "      <td>0</td>\n",
       "      <td>Samosa</td>\n",
       "    </tr>\n",
       "    <tr>\n",
       "      <th>3</th>\n",
       "      <td>64</td>\n",
       "      <td>168.847337</td>\n",
       "      <td>57.181763</td>\n",
       "      <td>0</td>\n",
       "      <td>Biryani</td>\n",
       "    </tr>\n",
       "    <tr>\n",
       "      <th>4</th>\n",
       "      <td>47</td>\n",
       "      <td>176.453651</td>\n",
       "      <td>95.345925</td>\n",
       "      <td>1</td>\n",
       "      <td>Samosa</td>\n",
       "    </tr>\n",
       "  </tbody>\n",
       "</table>\n",
       "</div>"
      ],
      "text/plain": [
       "   Age      Height     Weight  Gender Likeness\n",
       "0   53  153.278361  79.183453       1   Samosa\n",
       "1   56  199.333636  60.453554       1   Samosa\n",
       "2   40  176.137288  79.703309       0   Samosa\n",
       "3   64  168.847337  57.181763       0  Biryani\n",
       "4   47  176.453651  95.345925       1   Samosa"
      ]
     },
     "execution_count": 3,
     "metadata": {},
     "output_type": "execute_result"
    }
   ],
   "source": [
    "df['Gender'] = df['Gender'].replace('Male',1)\n",
    "df['Gender'] = df['Gender'].replace('Female',0)\n",
    "df.head()"
   ]
  },
  {
   "cell_type": "code",
   "execution_count": 4,
   "metadata": {},
   "outputs": [],
   "source": [
    "# selection of input and output variables\n",
    "x= df[[\"Weight\",\"Gender\"]]\n",
    "y=df['Likeness']"
   ]
  },
  {
   "cell_type": "code",
   "execution_count": 5,
   "metadata": {},
   "outputs": [
    {
     "name": "stderr",
     "output_type": "stream",
     "text": [
      "c:\\Python 3.10\\lib\\site-packages\\sklearn\\base.py:450: UserWarning: X does not have valid feature names, but DecisionTreeClassifier was fitted with feature names\n",
      "  warnings.warn(\n"
     ]
    },
    {
     "data": {
      "text/plain": [
       "array(['Samosa'], dtype=object)"
      ]
     },
     "execution_count": 5,
     "metadata": {},
     "output_type": "execute_result"
    }
   ],
   "source": [
    "# machine learning algorithm\n",
    "from sklearn.tree import DecisionTreeClassifier\n",
    "\n",
    "# create and fit our model\n",
    "model = DecisionTreeClassifier().fit(x,y)\n",
    "\n",
    "# prediction\n",
    "model.predict([[70,0]])"
   ]
  },
  {
   "cell_type": "code",
   "execution_count": 6,
   "metadata": {},
   "outputs": [
    {
     "name": "stdout",
     "output_type": "stream",
     "text": [
      "The accuracy score of the model is =  0.55\n"
     ]
    }
   ],
   "source": [
    "# how to measure the accuracy of our model\n",
    "# split data into test and train\n",
    "from sklearn.metrics import accuracy_score\n",
    "from sklearn.model_selection import train_test_split\n",
    "X_train,X_test,y_train,y_test=train_test_split(x,y,test_size=0.2)\n",
    "\n",
    "\n",
    "# create a model\n",
    "model = DecisionTreeClassifier()\n",
    "# Fitting the model\n",
    "model.fit(X_train,y_train)\n",
    "predicted_values= model.predict(X_test)\n",
    "predicted_values\n",
    "\n",
    "# checking score\n",
    "score = accuracy_score(y_test,predicted_values) \n",
    "print(\"The accuracy score of the model is = \",score)"
   ]
  },
  {
   "cell_type": "code",
   "execution_count": 7,
   "metadata": {},
   "outputs": [
    {
     "data": {
      "text/plain": [
       "['foodie.joblib']"
      ]
     },
     "execution_count": 7,
     "metadata": {},
     "output_type": "execute_result"
    }
   ],
   "source": [
    "# how to train and save our model\n",
    "import joblib\n",
    "model = DecisionTreeClassifier().fit(x,y)\n",
    "joblib.dump(model,\"foodie.joblib\")"
   ]
  },
  {
   "cell_type": "code",
   "execution_count": 8,
   "metadata": {},
   "outputs": [],
   "source": [
    "# graph\n",
    "from sklearn import tree\n",
    "model = DecisionTreeClassifier().fit(x,y)\n",
    "# graphic evaluation\n",
    "tree.export_graphviz(model,out_file='foodie.dot',feature_names=['age','gender'],\n",
    "                        class_names=sorted(y.unique()),\n",
    "                        label='all',\n",
    "                        rounded=True,\n",
    "                        filled=True                \n",
    "                        )"
   ]
  },
  {
   "cell_type": "code",
   "execution_count": null,
   "metadata": {},
   "outputs": [],
   "source": []
  }
 ],
 "metadata": {
  "kernelspec": {
   "display_name": "Python 3.10.6 64-bit",
   "language": "python",
   "name": "python3"
  },
  "language_info": {
   "codemirror_mode": {
    "name": "ipython",
    "version": 3
   },
   "file_extension": ".py",
   "mimetype": "text/x-python",
   "name": "python",
   "nbconvert_exporter": "python",
   "pygments_lexer": "ipython3",
   "version": "3.10.6"
  },
  "orig_nbformat": 4,
  "vscode": {
   "interpreter": {
    "hash": "9781c75f8ebb8db568c34abc6fa56aff5b950f24b8cfd6fe8af6829c67f4ac57"
   }
  }
 },
 "nbformat": 4,
 "nbformat_minor": 2
}
