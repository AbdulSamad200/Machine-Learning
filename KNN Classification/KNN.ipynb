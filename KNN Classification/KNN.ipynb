{
 "cells": [
  {
   "cell_type": "markdown",
   "metadata": {},
   "source": [
    "# Importing Necessary Libraries"
   ]
  },
  {
   "cell_type": "code",
   "execution_count": 1,
   "metadata": {},
   "outputs": [],
   "source": [
    "# Importing Libraries\n",
    "import numpy as np\n",
    "import pandas as pd\n",
    "from sklearn.model_selection import train_test_split\n",
    "from sklearn.neighbors import KNeighborsRegressor\n",
    "from sklearn.metrics import mean_squared_error\n",
    "import seaborn as sns\n"
   ]
  },
  {
   "cell_type": "code",
   "execution_count": 2,
   "metadata": {},
   "outputs": [],
   "source": [
    "tips = sns.load_dataset('tips')\n",
    "X= tips[['total_bill', 'size']]\n",
    "y= tips['tip']"
   ]
  },
  {
   "cell_type": "code",
   "execution_count": 9,
   "metadata": {},
   "outputs": [
    {
     "name": "stdout",
     "output_type": "stream",
     "text": [
      "Mean Squared Error =  0.7300585424489799\n"
     ]
    }
   ],
   "source": [
    "\n",
    "\n",
    "# Split the dataset into training and testing sets\n",
    "X_train,X_test,y_train,y_test = train_test_split(X,y,test_size=0.2,random_state=42)\n",
    "\n",
    "# Create a KNN regressor with k=5\n",
    "knn = KNeighborsRegressor(n_neighbors=100)\n",
    "\n",
    "#FIt the model to the training data \n",
    "knn.fit(X_train,y_train)\n",
    "\n",
    "# Make predictions on the testing data\n",
    "y_pred = knn.predict(X_test)\n",
    "\n",
    "\n",
    "# Evaluate the performance of the model using mean squared error\n",
    "mean = mean_squared_error(y_test,y_pred)\n",
    "print(\"Mean Squared Error = \",mean)\n"
   ]
  },
  {
   "cell_type": "code",
   "execution_count": 10,
   "metadata": {},
   "outputs": [
    {
     "data": {
      "text/plain": [
       "{'algorithm': 'auto',\n",
       " 'leaf_size': 30,\n",
       " 'metric': 'minkowski',\n",
       " 'metric_params': None,\n",
       " 'n_jobs': None,\n",
       " 'n_neighbors': 100,\n",
       " 'p': 2,\n",
       " 'weights': 'uniform'}"
      ]
     },
     "execution_count": 10,
     "metadata": {},
     "output_type": "execute_result"
    }
   ],
   "source": [
    "knn.get_params()"
   ]
  },
  {
   "cell_type": "code",
   "execution_count": 5,
   "metadata": {},
   "outputs": [
    {
     "name": "stdout",
     "output_type": "stream",
     "text": [
      "<class 'pandas.core.frame.DataFrame'>\n",
      "RangeIndex: 244 entries, 0 to 243\n",
      "Data columns (total 7 columns):\n",
      " #   Column      Non-Null Count  Dtype   \n",
      "---  ------      --------------  -----   \n",
      " 0   total_bill  244 non-null    float64 \n",
      " 1   tip         244 non-null    float64 \n",
      " 2   sex         244 non-null    category\n",
      " 3   smoker      244 non-null    category\n",
      " 4   day         244 non-null    category\n",
      " 5   time        244 non-null    category\n",
      " 6   size        244 non-null    int64   \n",
      "dtypes: category(4), float64(2), int64(1)\n",
      "memory usage: 7.4 KB\n"
     ]
    }
   ],
   "source": [
    "tips.info()"
   ]
  },
  {
   "cell_type": "code",
   "execution_count": 17,
   "metadata": {},
   "outputs": [
    {
     "name": "stdout",
     "output_type": "stream",
     "text": [
      "Accuracy: 1.0\n",
      "\n",
      "Classification Report:\n",
      "               precision    recall  f1-score   support\n",
      "\n",
      "      setosa       1.00      1.00      1.00        19\n",
      "  versicolor       1.00      1.00      1.00        13\n",
      "   virginica       1.00      1.00      1.00        13\n",
      "\n",
      "    accuracy                           1.00        45\n",
      "   macro avg       1.00      1.00      1.00        45\n",
      "weighted avg       1.00      1.00      1.00        45\n",
      "\n"
     ]
    }
   ],
   "source": [
    "# Import necessary libraries\n",
    "import seaborn as sns\n",
    "from sklearn.model_selection import train_test_split\n",
    "from sklearn.neighbors import KNeighborsClassifier\n",
    "from sklearn.metrics import accuracy_score, classification_report\n",
    "\n",
    "# Load the Iris dataset using Seaborn\n",
    "iris = sns.load_dataset(\"iris\")\n",
    "\n",
    "# Split the dataset into features (X) and target (y)\n",
    "X = iris.drop('species', axis=1)\n",
    "y = iris['species']\n",
    "\n",
    "# Split the dataset into training and test sets (70% train, 30% test)\n",
    "X_train, X_test, y_train, y_test = train_test_split(X, y, test_size=0.3, random_state=42)\n",
    "\n",
    "# Create a KNeighborsClassifier model with k=3 (you can adjust this hyperparameter)\n",
    "knn = KNeighborsClassifier(n_neighbors=3)\n",
    "\n",
    "# Fit the model to the training data\n",
    "knn.fit(X_train, y_train)\n",
    "\n",
    "# Make predictions on the test set\n",
    "y_pred = knn.predict(X_test)\n",
    "\n",
    "# Evaluate the model's accuracy\n",
    "accuracy = accuracy_score(y_test, y_pred)\n",
    "print(\"Accuracy:\", accuracy)\n",
    "\n",
    "# Print a classification report for more detailed evaluation\n",
    "print(\"\\nClassification Report:\\n\", classification_report(y_test, y_pred))\n"
   ]
  },
  {
   "cell_type": "code",
   "execution_count": 18,
   "metadata": {},
   "outputs": [
    {
     "data": {
      "text/plain": [
       "{'algorithm': 'auto',\n",
       " 'leaf_size': 30,\n",
       " 'metric': 'minkowski',\n",
       " 'metric_params': None,\n",
       " 'n_jobs': None,\n",
       " 'n_neighbors': 3,\n",
       " 'p': 2,\n",
       " 'weights': 'uniform'}"
      ]
     },
     "execution_count": 18,
     "metadata": {},
     "output_type": "execute_result"
    }
   ],
   "source": [
    "knn.get_params()"
   ]
  },
  {
   "cell_type": "markdown",
   "metadata": {},
   "source": [
    "# How to find best number of n_neighbours"
   ]
  },
  {
   "cell_type": "code",
   "execution_count": 19,
   "metadata": {},
   "outputs": [
    {
     "data": {
      "image/png": "[encoded data removed]",
      "text/plain": [
       "<Figure size 1000x600 with 1 Axes>"
      ]
     },
     "metadata": {},
     "output_type": "display_data"
    },
    {
     "name": "stdout",
     "output_type": "stream",
     "text": [
      "Best K Value: 3\n",
      "Best Cross-Validation Score: 0.96\n",
      "Accuracy on Test Set with Best K: 1.00\n"
     ]
    }
   ],
   "source": [
    "# Import necessary libraries\n",
    "import seaborn as sns\n",
    "import numpy as np\n",
    "import matplotlib.pyplot as plt\n",
    "from sklearn.model_selection import train_test_split, cross_val_score\n",
    "from sklearn.neighbors import KNeighborsClassifier\n",
    "\n",
    "# Load the Iris dataset using Seaborn\n",
    "iris = sns.load_dataset(\"iris\")\n",
    "\n",
    "# Split the dataset into features (X) and target (y)\n",
    "X = iris.drop('species', axis=1)\n",
    "y = iris['species']\n",
    "\n",
    "# Split the dataset into training and test sets (80% train, 20% test)\n",
    "X_train, X_test, y_train, y_test = train_test_split(X, y, test_size=0.2, random_state=42)\n",
    "\n",
    "# Define a range of k values to test\n",
    "k_values = np.arange(1, 21)  # Testing k values from 1 to 20\n",
    "\n",
    "# Create an empty list to store cross-validation scores\n",
    "cross_val_scores = []\n",
    "\n",
    "# Iterate through k values and perform cross-validation\n",
    "for k in k_values:\n",
    "    knn = KNeighborsClassifier(n_neighbors=k)\n",
    "    scores = cross_val_score(knn, X_train, y_train, cv=5)  # 5-fold cross-validation\n",
    "    cross_val_scores.append(scores.mean())\n",
    "\n",
    "# Find the best k value with the highest cross-validation score\n",
    "best_k = k_values[np.argmax(cross_val_scores)]\n",
    "best_score = max(cross_val_scores)\n",
    "\n",
    "# Plot the cross-validation scores for different k values\n",
    "plt.figure(figsize=(10, 6))\n",
    "plt.plot(k_values, cross_val_scores, marker='o', linestyle='-', color='b')\n",
    "plt.title('Cross-Validation Scores vs. K Value')\n",
    "plt.xlabel('K Value')\n",
    "plt.ylabel('Cross-Validation Score')\n",
    "plt.grid(True)\n",
    "plt.show()\n",
    "\n",
    "print(f\"Best K Value: {best_k}\")\n",
    "print(f\"Best Cross-Validation Score: {best_score:.2f}\")\n",
    "\n",
    "# Train a KNN classifier with the best k value on the full training set\n",
    "best_knn = KNeighborsClassifier(n_neighbors=best_k)\n",
    "best_knn.fit(X_train, y_train)\n",
    "\n",
    "# Evaluate the model on the test set\n",
    "test_accuracy = best_knn.score(X_test, y_test)\n",
    "print(f\"Accuracy on Test Set with Best K: {test_accuracy:.2f}\")\n"
   ]
  },
  {
   "cell_type": "code",
   "execution_count": 20,
   "metadata": {},
   "outputs": [
    {
     "data": {
      "text/plain": [
       "{'algorithm': 'auto',\n",
       " 'leaf_size': 30,\n",
       " 'metric': 'minkowski',\n",
       " 'metric_params': None,\n",
       " 'n_jobs': None,\n",
       " 'n_neighbors': 20,\n",
       " 'p': 2,\n",
       " 'weights': 'uniform'}"
      ]
     },
     "execution_count": 20,
     "metadata": {},
     "output_type": "execute_result"
    }
   ],
   "source": [
    "knn.get_params()"
   ]
  },
  {
   "cell_type": "markdown",
   "metadata": {},
   "source": [
    "### Selection of Best Algorithm with parameters using GRID SEARCH CV"
   ]
  },
  {
   "cell_type": "code",
   "execution_count": 24,
   "metadata": {},
   "outputs": [
    {
     "name": "stdout",
     "output_type": "stream",
     "text": [
      "Classifier: K-Nearest Neighbors\n",
      "Best Parameters: {'algorithm': 'auto', 'n_neighbors': 3, 'p': 1, 'weights': 'uniform'}\n",
      "Cross-Validation Score: 0.96\n",
      "Test Set Accuracy: 1.00\n",
      "\n",
      "Classifier: Support Vector Classifier\n",
      "Best Parameters: {'C': 1, 'kernel': 'linear'}\n",
      "Cross-Validation Score: 0.96\n",
      "Test Set Accuracy: 1.00\n",
      "\n",
      "Classifier: Random Forest Classifier\n",
      "Best Parameters: {'max_depth': None, 'min_samples_leaf': 4, 'min_samples_split': 2, 'n_estimators': 100}\n",
      "Cross-Validation Score: 0.97\n",
      "Test Set Accuracy: 1.00\n",
      "\n"
     ]
    }
   ],
   "source": [
    "# Import necessary libraries\n",
    "import seaborn as sns\n",
    "import numpy as np\n",
    "import matplotlib.pyplot as plt\n",
    "from sklearn.model_selection import train_test_split, GridSearchCV\n",
    "from sklearn.neighbors import KNeighborsClassifier\n",
    "from sklearn.svm import SVC\n",
    "from sklearn.ensemble import RandomForestClassifier\n",
    "from sklearn.metrics import accuracy_score, classification_report\n",
    "\n",
    "# Load the Iris dataset using Seaborn\n",
    "iris = sns.load_dataset(\"iris\")\n",
    "\n",
    "# Split the dataset into features (X) and target (y)\n",
    "X = iris.drop('species', axis=1)\n",
    "y = iris['species']\n",
    "\n",
    "# Split the dataset into training and test sets (80% train, 20% test)\n",
    "X_train, X_test, y_train, y_test = train_test_split(X, y, test_size=0.2, random_state=42)\n",
    "\n",
    "# Define the classifiers and their associated hyperparameters to search\n",
    "classifiers = [\n",
    "    {\n",
    "        'name': 'K-Nearest Neighbors',\n",
    "        'classifier': KNeighborsClassifier(),\n",
    "        'params': {\n",
    "            'n_neighbors': [1, 3, 5, 7, 9],\n",
    "            'weights': ['uniform', 'distance'],\n",
    "            'p': [1, 2],\n",
    "            'algorithm': ['auto', 'ball_tree', 'kd_tree', 'brute']  # Include algorithm as a hyperparameter\n",
    "        }\n",
    "    },\n",
    "    {\n",
    "        'name': 'Support Vector Classifier',\n",
    "        'classifier': SVC(),\n",
    "        'params': {\n",
    "            'C': [0.1, 1, 10],\n",
    "            'kernel': ['linear', 'rbf', 'poly']\n",
    "        }\n",
    "    },\n",
    "    {\n",
    "        'name': 'Random Forest Classifier',\n",
    "        'classifier': RandomForestClassifier(),\n",
    "        'params': {\n",
    "            'n_estimators': [50, 100, 200],\n",
    "            'max_depth': [None, 10, 20],\n",
    "            'min_samples_split': [2, 5, 10],\n",
    "            'min_samples_leaf': [1, 2, 4]\n",
    "        }\n",
    "    }\n",
    "]\n",
    "\n",
    "# Perform grid search with cross-validation for each classifier\n",
    "best_models = []\n",
    "\n",
    "for classifier in classifiers:\n",
    "    clf = classifier['classifier']\n",
    "    params = classifier['params']\n",
    "\n",
    "    grid_search = GridSearchCV(clf, params, cv=5, n_jobs=-1)\n",
    "    grid_search.fit(X_train, y_train)\n",
    "\n",
    "    best_params = grid_search.best_params_\n",
    "    best_score = grid_search.best_score_\n",
    "\n",
    "    # Train the best model on the full training set\n",
    "    best_model = clf.set_params(**best_params)\n",
    "    best_model.fit(X_train, y_train)\n",
    "\n",
    "    # Evaluate the best model on the test set\n",
    "    y_pred = best_model.predict(X_test)\n",
    "    test_accuracy = accuracy_score(y_test, y_pred)\n",
    "\n",
    "    best_models.append({\n",
    "        'name': classifier['name'],\n",
    "        'best_params': best_params,\n",
    "        'best_score': best_score,\n",
    "        'test_accuracy': test_accuracy\n",
    "    })\n",
    "\n",
    "# Print the results\n",
    "for model_info in best_models:\n",
    "    print(f\"Classifier: {model_info['name']}\")\n",
    "    print(f\"Best Parameters: {model_info['best_params']}\")\n",
    "    print(f\"Cross-Validation Score: {model_info['best_score']:.2f}\")\n",
    "    print(f\"Test Set Accuracy: {model_info['test_accuracy']:.2f}\\n\")\n"
   ]
  },
  {
   "cell_type": "markdown",
   "metadata": {},
   "source": [
    "# Printing the name of algorithm with best test accuracy"
   ]
  },
  {
   "cell_type": "markdown",
   "metadata": {},
   "source": [
    "# "
   ]
  },
  {
   "cell_type": "code",
   "execution_count": 25,
   "metadata": {},
   "outputs": [
    {
     "name": "stdout",
     "output_type": "stream",
     "text": [
      "The algorithm with the best test set accuracy is: K-Nearest Neighbors (Accuracy: 1.00)\n"
     ]
    }
   ],
   "source": [
    "# Initialize variables to keep track of the best model and accuracy\n",
    "best_accuracy = 0\n",
    "best_algorithm = None\n",
    "\n",
    "# Perform grid search with cross-validation for each classifier\n",
    "for classifier in classifiers:\n",
    "    clf = classifier['classifier']\n",
    "    params = classifier['params']\n",
    "\n",
    "    grid_search = GridSearchCV(clf, params, cv=5, n_jobs=-1)\n",
    "    grid_search.fit(X_train, y_train)\n",
    "\n",
    "    best_params = grid_search.best_params_\n",
    "    best_score = grid_search.best_score_\n",
    "\n",
    "    # Train the best model on the full training set\n",
    "    best_model = clf.set_params(**best_params)\n",
    "    best_model.fit(X_train, y_train)\n",
    "\n",
    "    # Evaluate the best model on the test set\n",
    "    y_pred = best_model.predict(X_test)\n",
    "    test_accuracy = accuracy_score(y_test, y_pred)\n",
    "\n",
    "    # Check if this model has the best test accuracy so far\n",
    "    if test_accuracy > best_accuracy:\n",
    "        best_accuracy = test_accuracy\n",
    "        best_algorithm = classifier['name']\n",
    "\n",
    "# Print the algorithm with the best test set accuracy\n",
    "print(f\"The algorithm with the best test set accuracy is: {best_algorithm} (Accuracy: {best_accuracy:.2f})\")\n"
   ]
  },
  {
   "cell_type": "code",
   "execution_count": null,
   "metadata": {},
   "outputs": [],
   "source": []
  }
 ],
 "metadata": {
  "kernelspec": {
   "display_name": "Python 3.10.6 64-bit",
   "language": "python",
   "name": "python3"
  },
  "language_info": {
   "codemirror_mode": {
    "name": "ipython",
    "version": 3
   },
   "file_extension": ".py",
   "mimetype": "text/x-python",
   "name": "python",
   "nbconvert_exporter": "python",
   "pygments_lexer": "ipython3",
   "version": "3.10.6"
  },
  "orig_nbformat": 4,
  "vscode": {
   "interpreter": {
    "hash": "9781c75f8ebb8db568c34abc6fa56aff5b950f24b8cfd6fe8af6829c67f4ac57"
   }
  }
 },
 "nbformat": 4,
 "nbformat_minor": 2
}
